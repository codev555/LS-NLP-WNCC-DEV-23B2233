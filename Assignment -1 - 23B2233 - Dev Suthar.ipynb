{
 "cells": [
  {
   "cell_type": "markdown",
   "id": "e736c57a",
   "metadata": {},
   "source": [
    "## Week 1 - 23B2233"
   ]
  },
  {
   "cell_type": "markdown",
   "id": "33344fa0",
   "metadata": {},
   "source": [
    "Q.1."
   ]
  },
  {
   "cell_type": "code",
   "execution_count": 1,
   "id": "ab15e3d1",
   "metadata": {},
   "outputs": [
    {
     "name": "stdout",
     "output_type": "stream",
     "text": [
      "[[45  3 46 33]\n",
      " [ 9 17 38 10]\n",
      " [46  8 43 18]\n",
      " [49 23 40 36]\n",
      " [41 49 32 48]]\n",
      "[33, 38, 8, 49]\n",
      "[46 38 46 49 49]\n",
      "[ 3  9 17 10  8 18 23]\n",
      "[45, 3, 46, 33, 10, 18, 36, 48, 32, 49, 41, 49, 46, 9]\n"
     ]
    }
   ],
   "source": [
    "import numpy as np\n",
    "\n",
    "wizzle = np.random.randint(1, 51, size=(5, 4))\n",
    "print(wizzle)\n",
    "\n",
    "anti_diag = [wizzle[i, -i-1] for i in range(min(wizzle.shape))]\n",
    "print(anti_diag)\n",
    "\n",
    "max_row_vals = np.max(wizzle, axis=1)\n",
    "print(max_row_vals)\n",
    "\n",
    "mean_val = np.mean(wizzle)\n",
    "less_equal_mean = wizzle[wizzle <= mean_val]\n",
    "print(less_equal_mean)\n",
    "\n",
    "def numpy_boundary_traversal(matrix):\n",
    "    top = matrix[0, :].tolist()\n",
    "    right = matrix[1:-1, -1].tolist()\n",
    "    bottom = matrix[-1, ::-1].tolist()\n",
    "    left = matrix[-2:0:-1, 0].tolist()\n",
    "    return top + right + bottom + left\n",
    "\n",
    "boundary = numpy_boundary_traversal(wizzle)\n",
    "print(boundary)\n"
   ]
  },
  {
   "cell_type": "markdown",
   "id": "65a0a00f",
   "metadata": {},
   "source": [
    "### Problem 1 Solution\n",
    "\n",
    "We started by creating a 2D NumPy array filled with random integers between 1 and 50. The anti-diagonal elements were extracted by selecting elements that run from the top-right to bottom-left of the matrix.\n",
    "\n",
    "Next, for each row in the matrix, we computed the maximum value.\n",
    "\n",
    "Then, we constructed a new array containing only those elements that are less than or equal to the overall mean of the matrix.\n",
    "\n",
    "Lastly, we defined a function `numpy_boundary_traversal(matrix)` that returns the boundary elements of the matrix in a clockwise fashion. This was done by combining slices from each side of the matrix to achieve the correct traversal order.\n"
   ]
  },
  {
   "cell_type": "markdown",
   "id": "bcd0a7ba",
   "metadata": {},
   "source": [
    "Q.2."
   ]
  },
  {
   "cell_type": "code",
   "execution_count": 2,
   "id": "856ebd4a",
   "metadata": {},
   "outputs": [
    {
     "name": "stdout",
     "output_type": "stream",
     "text": [
      "[7.64216142 8.78129065 6.64138309 8.36160123 6.67490074 4.25707358\n",
      " 4.48804959 7.51013527 5.63370327 4.50402859 4.33257357 6.67603838\n",
      " 8.60383753 9.85754435 4.75368765 8.68041373 2.03086388 4.07880392\n",
      " 2.68309683 3.93971009]\n",
      "[7.64 8.78 6.64 8.36 6.67 4.26 4.49 7.51 5.63 4.5  4.33 6.68 8.6  9.86\n",
      " 4.75 8.68 2.03 4.08 2.68 3.94]\n",
      "2.030863883560693 9.857544351208606 6.137543177737338\n",
      "[ 7.64216142  8.78129065  6.64138309  8.36160123  6.67490074 18.12267544\n",
      " 20.14258914  7.51013527  5.63370327 20.28627357 18.77119372  6.67603838\n",
      "  8.60383753  9.85754435 22.59754631  8.68041373  4.12440811 16.63664141\n",
      "  7.19900859 15.5213156 ]\n",
      "[ 4.12440811 22.59754631  5.63370327 20.28627357  6.64138309 20.14258914\n",
      "  6.67490074 18.77119372  6.67603838 18.12267544  7.19900859 16.63664141\n",
      "  7.51013527 15.5213156   7.64216142  9.85754435  8.36160123  8.78129065\n",
      "  8.60383753  8.68041373]\n"
     ]
    }
   ],
   "source": [
    "import numpy as np\n",
    "\n",
    "grumpy = np.random.uniform(0, 10, size=20)\n",
    "print(grumpy)\n",
    "\n",
    "rounded = np.round(grumpy, 2)\n",
    "print(rounded)\n",
    "\n",
    "min_val = np.min(grumpy)\n",
    "max_val = np.max(grumpy)\n",
    "median_val = np.median(grumpy)\n",
    "print(min_val, max_val, median_val)\n",
    "\n",
    "grumpy[grumpy < 5] = grumpy[grumpy < 5] ** 2\n",
    "print(grumpy)\n",
    "\n",
    "def numpy_alternate_sort(array):\n",
    "    sorted_array = np.sort(array)\n",
    "    result = []\n",
    "    left, right = 0, len(sorted_array) - 1\n",
    "    while left <= right:\n",
    "        result.append(sorted_array[left])\n",
    "        left += 1\n",
    "        if left <= right:\n",
    "            result.append(sorted_array[right])\n",
    "            right -= 1\n",
    "    return np.array(result)\n",
    "\n",
    "alt_sorted = numpy_alternate_sort(grumpy)\n",
    "print(alt_sorted)\n"
   ]
  },
  {
   "cell_type": "markdown",
   "id": "c371d9b8",
   "metadata": {},
   "source": [
    "### Problem 2 Solution\n",
    "\n",
    "A 1D NumPy array of random floats between 0 and 10 was generated. The elements were rounded to two decimal places for a clearer display.\n",
    "\n",
    "We calculated the minimum, maximum, and median of this array to understand its distribution.\n",
    "\n",
    "To add an interesting transformation, we squared all elements that were less than 5.\n",
    "\n",
    "Lastly, the function `numpy_alternate_sort(array)` was implemented to sort the array in an alternating pattern: smallest, largest, second smallest, second largest, and so on. This was done using a two-pointer approach on the sorted array.\n"
   ]
  },
  {
   "cell_type": "markdown",
   "id": "554745a4",
   "metadata": {},
   "source": [
    "Q.3."
   ]
  },
  {
   "cell_type": "code",
   "execution_count": 3,
   "id": "d942c9b5",
   "metadata": {},
   "outputs": [
    {
     "name": "stdout",
     "output_type": "stream",
     "text": [
      "      Name    Subject  Score Grade\n",
      "0    Alice    Physics     50     F\n",
      "1      Bob  Chemistry     80     B\n",
      "2  Charlie    Physics     54     F\n",
      "3    Daisy    Biology     80     B\n",
      "4     Evan       Math     73     C\n",
      "5      Fay    English     66     D\n",
      "6   George    English     96     A\n",
      "7    Hilda    Biology     64     D\n",
      "8     Ivan  Chemistry     83     B\n",
      "9    Julia    Biology     99     A\n",
      "      Name    Subject  Score Grade\n",
      "9    Julia    Biology     99     A\n",
      "6   George    English     96     A\n",
      "8     Ivan  Chemistry     83     B\n",
      "1      Bob  Chemistry     80     B\n",
      "3    Daisy    Biology     80     B\n",
      "4     Evan       Math     73     C\n",
      "5      Fay    English     66     D\n",
      "7    Hilda    Biology     64     D\n",
      "2  Charlie    Physics     54     F\n",
      "0    Alice    Physics     50     F\n",
      "Subject\n",
      "Biology      81.0\n",
      "Chemistry    81.5\n",
      "English      81.0\n",
      "Math         73.0\n",
      "Physics      52.0\n",
      "Name: Score, dtype: float64\n",
      "     Name    Subject  Score Grade\n",
      "1     Bob  Chemistry     80     B\n",
      "3   Daisy    Biology     80     B\n",
      "6  George    English     96     A\n",
      "8    Ivan  Chemistry     83     B\n",
      "9   Julia    Biology     99     A\n"
     ]
    }
   ],
   "source": [
    "import pandas as pd\n",
    "import random\n",
    "\n",
    "names = ['Alice', 'Bob', 'Charlie', 'Daisy', 'Evan', 'Fay', 'George', 'Hilda', 'Ivan', 'Julia']\n",
    "subjects = ['Math', 'Physics', 'Chemistry', 'Biology', 'English']\n",
    "subject_choices = [random.choice(subjects) for _ in range(10)]\n",
    "scores = np.random.randint(50, 101, size=10)\n",
    "\n",
    "df_buddy = pd.DataFrame({\n",
    "    'Name': names,\n",
    "    'Subject': subject_choices,\n",
    "    'Score': scores,\n",
    "    'Grade': [''] * 10\n",
    "})\n",
    "\n",
    "def assign_grade(score):\n",
    "    if score >= 90:\n",
    "        return 'A'\n",
    "    elif score >= 80:\n",
    "        return 'B'\n",
    "    elif score >= 70:\n",
    "        return 'C'\n",
    "    elif score >= 60:\n",
    "        return 'D'\n",
    "    else:\n",
    "        return 'F'\n",
    "\n",
    "df_buddy['Grade'] = df_buddy['Score'].apply(assign_grade)\n",
    "print(df_buddy)\n",
    "\n",
    "sorted_df = df_buddy.sort_values(by='Score', ascending=False)\n",
    "print(sorted_df)\n",
    "\n",
    "avg_scores = df_buddy.groupby('Subject')['Score'].mean()\n",
    "print(avg_scores)\n",
    "\n",
    "def pandas_filter_pass(dataframe):\n",
    "    return dataframe[dataframe['Grade'].isin(['A', 'B'])]\n",
    "\n",
    "df_pass = pandas_filter_pass(df_buddy)\n",
    "print(df_pass)\n"
   ]
  },
  {
   "cell_type": "markdown",
   "id": "a83cf6cb",
   "metadata": {},
   "source": [
    "### Problem 3 Solution\n",
    "\n",
    "We created a Pandas DataFrame representing 10 student records with columns: Name, Subject, Score, and Grade.\n",
    "\n",
    "The grades were assigned based on the following criteria:\n",
    "- A: 90–100\n",
    "- B: 80–89\n",
    "- C: 70–79\n",
    "- D: 60–69\n",
    "- F: below 60\n",
    "\n",
    "The DataFrame was then sorted in descending order based on Score.\n",
    "\n",
    "We also computed the average score per Subject using groupby aggregation.\n",
    "\n",
    "Finally, the function `pandas_filter_pass(dataframe)` was implemented to return only the records of students who received grades A or B.\n"
   ]
  },
  {
   "cell_type": "markdown",
   "id": "cf8c8544",
   "metadata": {},
   "source": [
    "Q.4."
   ]
  },
  {
   "cell_type": "code",
   "execution_count": 4,
   "id": "95b8d9dd",
   "metadata": {},
   "outputs": [
    {
     "name": "stdout",
     "output_type": "stream",
     "text": [
      "1.0\n",
      "negative\n"
     ]
    }
   ],
   "source": [
    "import pandas as pd\n",
    "import random\n",
    "from sklearn.feature_extraction.text import CountVectorizer\n",
    "from sklearn.model_selection import train_test_split\n",
    "from sklearn.naive_bayes import MultinomialNB\n",
    "from sklearn.metrics import accuracy_score\n",
    "\n",
    "positive_reviews = ['Great movie!' for _ in range(50)]\n",
    "negative_reviews = ['Terrible movie.' for _ in range(50)]\n",
    "reviews = positive_reviews + negative_reviews\n",
    "sentiments = ['positive'] * 50 + ['negative'] * 50\n",
    "\n",
    "df_reviews = pd.DataFrame({'Review': reviews, 'Sentiment': sentiments})\n",
    "\n",
    "vectorizer_fizz = CountVectorizer(max_features=500, stop_words='english')\n",
    "X_fizz = vectorizer_fizz.fit_transform(df_reviews['Review'])\n",
    "\n",
    "X_train_fizz, X_test_fizz, y_train_fizz, y_test_fizz = train_test_split(\n",
    "    X_fizz, df_reviews['Sentiment'], test_size=0.2, random_state=42\n",
    ")\n",
    "\n",
    "model_fizz = MultinomialNB()\n",
    "model_fizz.fit(X_train_fizz, y_train_fizz)\n",
    "\n",
    "y_pred_fizz = model_fizz.predict(X_test_fizz)\n",
    "accuracy_fizz = accuracy_score(y_test_fizz, y_pred_fizz)\n",
    "print(accuracy_fizz)\n",
    "\n",
    "def predict_review_sentiment(model, vectorizer, review):\n",
    "    X_new = vectorizer.transform([review])\n",
    "    return model.predict(X_new)[0]\n",
    "\n",
    "sample_sentiment = predict_review_sentiment(model_fizz, vectorizer_fizz, 'I loved this movie!')\n",
    "print(sample_sentiment)\n"
   ]
  },
  {
   "cell_type": "markdown",
   "id": "41dc63ca",
   "metadata": {},
   "source": [
    "### Problem 4 Solution\n",
    "\n",
    "We created a synthetic dataset of 100 short movie reviews — 50 positive and 50 negative.\n",
    "\n",
    "Using `CountVectorizer`, we tokenized the reviews into a feature matrix with a maximum of 500 features and removed stop words.\n",
    "\n",
    "The data was split into training (80%) and testing (20%) sets.\n",
    "\n",
    "A Multinomial Naive Bayes classifier was trained on the training data and its accuracy was reported on the test set.\n",
    "\n",
    "Finally, the function `predict_review_sentiment(model, vectorizer, review)` was created to predict the sentiment of a new review based on the trained model and vectorizer.\n"
   ]
  },
  {
   "cell_type": "markdown",
   "id": "2a951f5a",
   "metadata": {},
   "source": [
    "Q.5."
   ]
  },
  {
   "cell_type": "code",
   "execution_count": 5,
   "id": "d81aced7",
   "metadata": {},
   "outputs": [
    {
     "name": "stdout",
     "output_type": "stream",
     "text": [
      "1.0 1.0 1.0\n",
      "(1, 5)\n"
     ]
    }
   ],
   "source": [
    "import pandas as pd\n",
    "import random\n",
    "from sklearn.feature_extraction.text import TfidfVectorizer\n",
    "from sklearn.model_selection import train_test_split\n",
    "from sklearn.linear_model import LogisticRegression\n",
    "from sklearn.metrics import precision_score, recall_score, f1_score\n",
    "\n",
    "good_feedback = ['Excellent product.' for _ in range(50)]\n",
    "bad_feedback = ['Poor quality item.' for _ in range(50)]\n",
    "feedbacks = good_feedback + bad_feedback\n",
    "labels = ['good'] * 50 + ['bad'] * 50\n",
    "\n",
    "df_feedback = pd.DataFrame({'Feedback': feedbacks, 'Label': labels})\n",
    "\n",
    "vectorizer_glow = TfidfVectorizer(max_features=300, lowercase=True, stop_words='english')\n",
    "X_glow = vectorizer_glow.fit_transform(df_feedback['Feedback'])\n",
    "\n",
    "X_train_glow, X_test_glow, y_train_glow, y_test_glow = train_test_split(\n",
    "    X_glow, df_feedback['Label'], test_size=0.25, random_state=42\n",
    ")\n",
    "\n",
    "model_glow = LogisticRegression()\n",
    "model_glow.fit(X_train_glow, y_train_glow)\n",
    "\n",
    "y_pred_glow = model_glow.predict(X_test_glow)\n",
    "\n",
    "precision_glow = precision_score(y_test_glow, y_pred_glow, pos_label='good')\n",
    "recall_glow = recall_score(y_test_glow, y_pred_glow, pos_label='good')\n",
    "f1_glow = f1_score(y_test_glow, y_pred_glow, pos_label='good')\n",
    "\n",
    "print(precision_glow, recall_glow, f1_glow)\n",
    "\n",
    "def text_preprocess_vectorize(texts, vectorizer):\n",
    "    return vectorizer.transform(texts)\n",
    "\n",
    "sample_vectorized = text_preprocess_vectorize(['Amazing experience.'], vectorizer_glow)\n",
    "print(sample_vectorized.shape)\n"
   ]
  },
  {
   "cell_type": "markdown",
   "id": "0e4b8fc9",
   "metadata": {},
   "source": [
    "### Problem 5 Solution\n",
    "\n",
    "A synthetic dataset of 100 product feedback entries (50 good, 50 bad) was created.\n",
    "\n",
    "Text preprocessing was performed using `TfidfVectorizer`, with a maximum of 300 features, lowercasing, and stop word removal.\n",
    "\n",
    "We split the data into training (75%) and testing (25%) sets.\n",
    "\n",
    "A Logistic Regression model was trained on the vectorized training data. We then reported precision, recall, and F1-score for the model on the test set.\n",
    "\n",
    "Lastly, the function `text_preprocess_vectorize(texts, vectorizer)` was written to preprocess and vectorize any list of text samples using a fitted `TfidfVectorizer`.\n"
   ]
  }
 ],
 "metadata": {
  "kernelspec": {
   "display_name": "base",
   "language": "python",
   "name": "python3"
  },
  "language_info": {
   "codemirror_mode": {
    "name": "ipython",
    "version": 3
   },
   "file_extension": ".py",
   "mimetype": "text/x-python",
   "name": "python",
   "nbconvert_exporter": "python",
   "pygments_lexer": "ipython3",
   "version": "3.12.3"
  }
 },
 "nbformat": 4,
 "nbformat_minor": 5
}
